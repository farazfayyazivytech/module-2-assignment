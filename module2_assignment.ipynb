{
 "cells": [
  {
   "cell_type": "code",
   "execution_count": 3,
   "id": "4c44a7ef-bf2a-4361-8572-84e8c70e8cb2",
   "metadata": {},
   "outputs": [
    {
     "name": "stdout",
     "output_type": "stream",
     "text": [
      "too high\n"
     ]
    }
   ],
   "source": [
    "# 4.1\n",
    "secret = 5\n",
    "guess = 8\n",
    "\n",
    "if guess > secret: #if guess greater than secret, print too high\n",
    "    print(\"too high\")\n",
    "elif guess < secret: #if guess less than secret, print too low\n",
    "    print(\"too low\")\n",
    "else: #if guess equal to secret, print just right\n",
    "    print(\"just right\")"
   ]
  },
  {
   "cell_type": "code",
   "execution_count": 6,
   "id": "96cef518-802c-4e4f-91dd-95bda3a0687c",
   "metadata": {},
   "outputs": [
    {
     "name": "stdout",
     "output_type": "stream",
     "text": [
      "cherry\n"
     ]
    }
   ],
   "source": [
    "# 4.2\n",
    "small = True\n",
    "green = False\n",
    "\n",
    "if small == True and green == True:\n",
    "    print(\"pea\")\n",
    "elif small == True and green == False:\n",
    "    print(\"cherry\")\n",
    "elif small == False and green == False:\n",
    "    print(\"pumpkin\")\n",
    "else:\n",
    "    print(\"watermelon\")"
   ]
  },
  {
   "cell_type": "code",
   "execution_count": 8,
   "id": "6db057fc-d3f1-484b-a7c7-cba5414a8639",
   "metadata": {},
   "outputs": [
    {
     "name": "stdout",
     "output_type": "stream",
     "text": [
      "3\n",
      "2\n",
      "1\n",
      "0\n"
     ]
    }
   ],
   "source": [
    "# 6.1\n",
    "for x in [3, 2, 1, 0]:\n",
    "    print(x)"
   ]
  },
  {
   "cell_type": "code",
   "execution_count": 11,
   "id": "7e02adaf-7965-49b1-9467-d1982f9f0515",
   "metadata": {},
   "outputs": [
    {
     "name": "stdout",
     "output_type": "stream",
     "text": [
      "too low\n",
      "too low\n",
      "too low\n",
      "too low\n",
      "too low\n",
      "too low\n",
      "found it!\n"
     ]
    }
   ],
   "source": [
    "# 6.2\n",
    "guess_me = 7\n",
    "number = 1\n",
    "\n",
    "while(number <= guess_me):\n",
    "    if number < guess_me:\n",
    "        print(\"too low\")\n",
    "    elif number == guess_me:\n",
    "        print(\"found it!\")\n",
    "        break\n",
    "    else:\n",
    "        print(\"oops\")\n",
    "        break\n",
    "    number+=1"
   ]
  },
  {
   "cell_type": "code",
   "execution_count": null,
   "id": "bac9a571-b176-447b-b505-2f479b96699d",
   "metadata": {},
   "outputs": [],
   "source": [
    "# 6.3\n",
    "guess_me = 5\n",
    "\n",
    "for number "
   ]
  }
 ],
 "metadata": {
  "kernelspec": {
   "display_name": "Python 3 (ipykernel)",
   "language": "python",
   "name": "python3"
  },
  "language_info": {
   "codemirror_mode": {
    "name": "ipython",
    "version": 3
   },
   "file_extension": ".py",
   "mimetype": "text/x-python",
   "name": "python",
   "nbconvert_exporter": "python",
   "pygments_lexer": "ipython3",
   "version": "3.12.4"
  }
 },
 "nbformat": 4,
 "nbformat_minor": 5
}
